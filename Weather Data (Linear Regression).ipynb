{
 "cells": [
  {
   "cell_type": "code",
   "execution_count": null,
   "metadata": {},
   "outputs": [],
   "source": [
    "#basic imports\n",
    "import numpy as np\n",
    "import pandas as pd\n",
    "import matplotlib.pylab as plt\n",
    "import seaborn as sns\n",
    "%matplotlib inline\n",
    "from sklearn.linear_model import LinearRegression\n",
    "from sklearn import datasets, linear_model"
   ]
  },
  {
   "cell_type": "code",
   "execution_count": null,
   "metadata": {},
   "outputs": [],
   "source": [
    "# read data\n",
    "weather = pd.read_csv('weatherHistory.csv')"
   ]
  },
  {
   "cell_type": "code",
   "execution_count": null,
   "metadata": {},
   "outputs": [],
   "source": [
    "#get familiarity with dataset\n",
    "weather.head() #first few rows"
   ]
  },
  {
   "cell_type": "code",
   "execution_count": null,
   "metadata": {},
   "outputs": [],
   "source": [
    "#examine dataset\n",
    "#weather.describe() #numerical summary of continuous variables\n",
    "#weather.shape # 96543 rows and 12 variables\n",
    "weather.dtypes #data types of variables"
   ]
  },
  {
   "cell_type": "code",
   "execution_count": null,
   "metadata": {},
   "outputs": [],
   "source": [
    "#missing value\n",
    "weather.isna().sum() #counting na values in dataset (column wise) (precip type has 517 missing values)"
   ]
  },
  {
   "cell_type": "code",
   "execution_count": null,
   "metadata": {},
   "outputs": [],
   "source": [
    "#aim is to make a predictive model using Linear regression to predict temperature based on several features such as Humidity,Wind speed etc"
   ]
  },
  {
   "cell_type": "code",
   "execution_count": null,
   "metadata": {},
   "outputs": [],
   "source": [
    "# Seperate train and test data\n",
    "from sklearn.model_selection import train_test_split\n",
    "y=weather['Temperature (C)'] #target(outcome)\n",
    "x=weather.drop(weather.columns[[0,1,2,3,11]],axis=1) #data except outcome\n",
    "X_train, X_test, y_train, y_test = train_test_split(x,y,test_size=0.2)"
   ]
  },
  {
   "cell_type": "code",
   "execution_count": null,
   "metadata": {},
   "outputs": [],
   "source": [
    "#X_train.shape\n",
    "#y_train.shape\n",
    "#X_test.shape\n",
    "#y_test.shape"
   ]
  },
  {
   "cell_type": "code",
   "execution_count": null,
   "metadata": {},
   "outputs": [],
   "source": [
    "# fit a model\n",
    "lm = linear_model.LinearRegression()\n",
    "model1 = lm.fit(X_train, y_train)\n",
    "prediction_model1 = lm.predict(X_test)"
   ]
  },
  {
   "cell_type": "code",
   "execution_count": null,
   "metadata": {},
   "outputs": [],
   "source": [
    "prediction_model1 #predicted values of temperature"
   ]
  },
  {
   "cell_type": "code",
   "execution_count": null,
   "metadata": {},
   "outputs": [],
   "source": [
    "#Interpretation (coefficient)\n",
    "model1.coef_ #7 coefficients for 7 variables (1 for each) \n",
    "#A unit increase in Apparent Temperature(first variable), temperature (outcome/target) will increase by 0.872 degrees)\n",
    "#A unit increase in Humidity (second variable), temp will decrease by 1.4244 units (unit of humidity)"
   ]
  },
  {
   "cell_type": "code",
   "execution_count": null,
   "metadata": {},
   "outputs": [],
   "source": [
    "#Interpretation (intercept)\n",
    "model1.intercept_ #here it means that when all the predictors are 0 (constant), the average outcome i.e. Temperature is 2.835 degree celcius"
   ]
  },
  {
   "cell_type": "code",
   "execution_count": null,
   "metadata": {},
   "outputs": [],
   "source": [
    "#rmse\n",
    "from sklearn import metrics\n",
    "print (np.sqrt(metrics.mean_squared_error(y_test,prediction_model1))) \n",
    "# 0.94 degree celsius rmse\n",
    "\n",
    "#rmse is square root of mean squared error where squared difference between pred and observed val is taken to take the magnitude as well as direction in account"
   ]
  },
  {
   "cell_type": "code",
   "execution_count": null,
   "metadata": {},
   "outputs": [],
   "source": [
    "#mae\n",
    "print(metrics.mean_absolute_error(y_test,prediction_model1)) #0.736\n",
    "#mae is absolute error and does not take direction (positive and negative values in account)"
   ]
  },
  {
   "cell_type": "code",
   "execution_count": null,
   "metadata": {},
   "outputs": [],
   "source": [
    "#mse\n",
    "print(metrics.mean_squared_error(y_test,prediction_model1)) #0.88"
   ]
  },
  {
   "cell_type": "code",
   "execution_count": null,
   "metadata": {},
   "outputs": [],
   "source": [
    "#plot\n",
    "plt.scatter(y_test,prediction_model1)"
   ]
  },
  {
   "cell_type": "code",
   "execution_count": null,
   "metadata": {},
   "outputs": [],
   "source": [
    "#metric of r-squared\n",
    "from sklearn.metrics import r2_score\n",
    "r2_score(y_test,prediction_model1) #0.99 R-squared value (extremely good model)"
   ]
  },
  {
   "cell_type": "code",
   "execution_count": null,
   "metadata": {},
   "outputs": [],
   "source": []
  },
  {
   "cell_type": "code",
   "execution_count": null,
   "metadata": {},
   "outputs": [],
   "source": [
    "\n"
   ]
  },
  {
   "cell_type": "code",
   "execution_count": null,
   "metadata": {},
   "outputs": [],
   "source": []
  }
 ],
 "metadata": {
  "kernelspec": {
   "display_name": "Python 3",
   "language": "python",
   "name": "python3"
  },
  "language_info": {
   "codemirror_mode": {
    "name": "ipython",
    "version": 3
   },
   "file_extension": ".py",
   "mimetype": "text/x-python",
   "name": "python",
   "nbconvert_exporter": "python",
   "pygments_lexer": "ipython3",
   "version": "3.7.3"
  }
 },
 "nbformat": 4,
 "nbformat_minor": 2
}
